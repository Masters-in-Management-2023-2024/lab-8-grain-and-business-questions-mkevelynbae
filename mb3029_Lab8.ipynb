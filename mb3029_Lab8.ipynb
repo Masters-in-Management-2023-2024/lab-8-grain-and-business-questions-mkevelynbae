{
  "cells": [
    {
      "cell_type": "markdown",
      "metadata": {
        "id": "pwDwE8aoNZK7"
      },
      "source": [
        "# Diamond Company Analytics Challenge\n",
        "\n",
        "**Time:** 35 minutes\n",
        "\n",
        "**Scenario:** You are the new data analyst at a prestigious diamond company. The CEO has called an urgent meeting and needs answers to critical business questions about the inventory.\n",
        "\n",
        "**Your Mission:** Analyze the diamond inventory data and provide insights to guide strategic decisions."
      ]
    },
    {
      "cell_type": "code",
      "execution_count": null,
      "metadata": {
        "id": "pDd3MN0qNZK9",
        "colab": {
          "base_uri": "https://localhost:8080/"
        },
        "outputId": "392d3dcb-3c35-4480-e5fe-9c04cbad25a5"
      },
      "outputs": [
        {
          "output_type": "stream",
          "name": "stdout",
          "text": [
            "Loading diamonds dataset...\n",
            "Dataset loaded successfully!\n"
          ]
        }
      ],
      "source": [
        "import polars as pl\n",
        "\n",
        "# Load the diamonds dataset\n",
        "print(\"Loading diamonds dataset...\")\n",
        "df = pl.read_csv('https://raw.githubusercontent.com/pycaret/pycaret/master/datasets/diamond.csv')\n",
        "print(\"Dataset loaded successfully!\")"
      ]
    },
    {
      "cell_type": "markdown",
      "metadata": {
        "id": "UjPWnNQdNZK-"
      },
      "source": [
        "## Section 1: Initial Inventory Assessment (5 minutes)\n",
        "\n",
        "The CEO walks in: \"Before we dive into specifics, I need to understand what we're working with. Give me the basics about our inventory database.\""
      ]
    },
    {
      "cell_type": "markdown",
      "metadata": {
        "id": "_NLAJL8dNZK-"
      },
      "source": [
        "### Question 1: \"How extensive is our inventory database?\"\n",
        "\n",
        "The CEO needs to know the scale of data you're analyzing."
      ]
    },
    {
      "cell_type": "code",
      "execution_count": null,
      "metadata": {
        "id": "BL9CKu_DNZK-",
        "colab": {
          "base_uri": "https://localhost:8080/"
        },
        "outputId": "2f22efd0-733e-433a-c2c5-15ea766009b2"
      },
      "outputs": [
        {
          "output_type": "stream",
          "name": "stdout",
          "text": [
            "Our inventory database contains 6,000 diamonds, each with 8 attributes.\n"
          ]
        }
      ],
      "source": [
        "import polars as pl\n",
        "\n",
        "# Load the diamonds dataset\n",
        "df = pl.read_csv('https://raw.githubusercontent.com/pycaret/pycaret/master/datasets/diamond.csv')\n",
        "\n",
        "rows, cols = df.shape\n",
        "print(f\"Our inventory database contains {rows:,} diamonds, each with {cols} attributes.\")"
      ]
    },
    {
      "cell_type": "markdown",
      "metadata": {
        "id": "RPZOJDp4NZK-"
      },
      "source": [
        "******### Question 2: \"What information do we track about each diamond?\"\n",
        "\n",
        "List all the characteristics we record."
      ]
    },
    {
      "cell_type": "code",
      "execution_count": null,
      "metadata": {
        "id": "zc2jIdZoNZK-",
        "colab": {
          "base_uri": "https://localhost:8080/"
        },
        "outputId": "51735ff7-bb77-4ad8-831f-a1b42140e4b8"
      },
      "outputs": [
        {
          "output_type": "stream",
          "name": "stdout",
          "text": [
            "Carat Weight\n",
            "Cut\n",
            "Color\n",
            "Clarity\n",
            "Polish\n",
            "Symmetry\n",
            "Report\n",
            "Price\n"
          ]
        }
      ],
      "source": [
        "# Your code here:\n",
        "\n",
        "for col in df.columns:\n",
        "    print(col)"
      ]
    },
    {
      "cell_type": "markdown",
      "metadata": {
        "id": "7_Nm3ydONZK_"
      },
      "source": [
        "\n",
        "\n",
        "```\n",
        "# 코드로 형식 지정됨\n",
        "```\n",
        "\n",
        "### Question 3: \"When I look at one line in this database, what am I looking at?\"\n",
        "\n",
        "Explain in business terms:"
      ]
    },
    {
      "cell_type": "markdown",
      "metadata": {
        "id": "pCqhjqdfNZK_"
      },
      "source": [
        "**Your answer:** Each row represents: Each line shows a diamond, described by its weight, quality ratings, dimensions, and price."
      ]
    },
    {
      "cell_type": "markdown",
      "metadata": {
        "id": "F5D9YuH0NZK_"
      },
      "source": [
        "## Section 2: Strategic Business Questions (20 minutes)\n",
        "\n",
        "The CEO continues: \"Now let's get to the important questions. Our board meeting is tomorrow and I need concrete numbers.\""
      ]
    },
    {
      "cell_type": "markdown",
      "metadata": {
        "id": "EuSO0hFpNZK_"
      },
      "source": [
        "### Question 4: \"We're considering expanding our storage facilities. How many total carats do we have in inventory? I need to know if our vaults can handle the weight.\"\n",
        "\n",
        "Think about what measurement would help answer this."
      ]
    },
    {
      "cell_type": "code",
      "execution_count": null,
      "metadata": {
        "id": "pxQu3P7dNZK_",
        "colab": {
          "base_uri": "https://localhost:8080/"
        },
        "outputId": "b98a9bf2-ae57-4a2d-8df3-00ff83faf1db"
      },
      "outputs": [
        {
          "output_type": "stream",
          "name": "stdout",
          "text": [
            "Total carats in inventory: 8,007.12\n",
            "Total weight: 1,601.42 grams\n"
          ]
        }
      ],
      "source": [
        "# Your code here:\n",
        "\n",
        "total_carats = df.select(pl.col(\"Carat Weight\").sum()).item()\n",
        "print(f\"Total carats in inventory: {total_carats:,.2f}\")\n",
        "\n",
        "total_grams = total_carats * 0.2\n",
        "print(f\"Total weight: {total_grams:,.2f} grams\")"
      ]
    },
    {
      "cell_type": "markdown",
      "metadata": {
        "id": "HxG_rZNlNZK_"
      },
      "source": [
        "### Question 5: \"Our new marketing campaign claims we have 'the widest variety of cuts in the industry.' Can you verify this?\"\n",
        "\n",
        "The CEO wants to know about variety, not quantity."
      ]
    },
    {
      "cell_type": "code",
      "execution_count": null,
      "metadata": {
        "id": "_Oz61EAPNZK_",
        "colab": {
          "base_uri": "https://localhost:8080/"
        },
        "outputId": "604d9475-bead-48d5-d66a-52d132cb4088"
      },
      "outputs": [
        {
          "output_type": "stream",
          "name": "stdout",
          "text": [
            "We have 5 unique cut types: ['Signature-Ideal', 'Ideal', 'Very Good', 'Fair', 'Good']\n"
          ]
        }
      ],
      "source": [
        "# Your code here:\n",
        "\n",
        "unique_cuts = df.select(pl.col(\"Cut\").unique()).to_series().to_list()\n",
        "num_unique_cuts = len(unique_cuts)\n",
        "\n",
        "print(f\"We have {num_unique_cuts} unique cut types: {unique_cuts}\")"
      ]
    },
    {
      "cell_type": "markdown",
      "metadata": {
        "id": "Iz4FVnC0NZLA"
      },
      "source": [
        "### Question 6: \"I'm meeting with our insurance company. They need to know our price exposure - what's our most and least valuable diamond?\""
      ]
    },
    {
      "cell_type": "code",
      "execution_count": null,
      "metadata": {
        "id": "06xKndtBNZLA",
        "colab": {
          "base_uri": "https://localhost:8080/"
        },
        "outputId": "53f36427-e763-40f2-c29c-90508fb28824"
      },
      "outputs": [
        {
          "output_type": "stream",
          "name": "stdout",
          "text": [
            "Most valuable diamond:\n",
            "shape: (1, 8)\n",
            "┌──────────────┬───────┬───────┬─────────┬────────┬──────────┬────────┬────────┐\n",
            "│ Carat Weight ┆ Cut   ┆ Color ┆ Clarity ┆ Polish ┆ Symmetry ┆ Report ┆ Price  │\n",
            "│ ---          ┆ ---   ┆ ---   ┆ ---     ┆ ---    ┆ ---      ┆ ---    ┆ ---    │\n",
            "│ f64          ┆ str   ┆ str   ┆ str     ┆ str    ┆ str      ┆ str    ┆ i64    │\n",
            "╞══════════════╪═══════╪═══════╪═════════╪════════╪══════════╪════════╪════════╡\n",
            "│ 2.79         ┆ Ideal ┆ D     ┆ IF      ┆ EX     ┆ EX       ┆ GIA    ┆ 101561 │\n",
            "└──────────────┴───────┴───────┴─────────┴────────┴──────────┴────────┴────────┘\n",
            "\n",
            "Least valuable diamond:\n",
            "shape: (1, 8)\n",
            "┌──────────────┬──────┬───────┬─────────┬────────┬──────────┬────────┬───────┐\n",
            "│ Carat Weight ┆ Cut  ┆ Color ┆ Clarity ┆ Polish ┆ Symmetry ┆ Report ┆ Price │\n",
            "│ ---          ┆ ---  ┆ ---   ┆ ---     ┆ ---    ┆ ---      ┆ ---    ┆ ---   │\n",
            "│ f64          ┆ str  ┆ str   ┆ str     ┆ str    ┆ str      ┆ str    ┆ i64   │\n",
            "╞══════════════╪══════╪═══════╪═════════╪════════╪══════════╪════════╪═══════╡\n",
            "│ 0.77         ┆ Good ┆ I     ┆ VS1     ┆ VG     ┆ G        ┆ AGSL   ┆ 2184  │\n",
            "└──────────────┴──────┴───────┴─────────┴────────┴──────────┴────────┴───────┘\n"
          ]
        }
      ],
      "source": [
        "# Your code here:\n",
        "\n",
        "most_expensive = df.sort(\"Price\", descending=True).head(1)\n",
        "least_expensive = df.sort(\"Price\").head(1)\n",
        "\n",
        "print(\"Most valuable diamond:\")\n",
        "print(most_expensive)\n",
        "\n",
        "print(\"\\nLeast valuable diamond:\")\n",
        "print(least_expensive)"
      ]
    },
    {
      "cell_type": "markdown",
      "metadata": {
        "id": "refh8V3JNZLA"
      },
      "source": [
        "### Question 7: \"Which color grades should we focus on in our premium line? I need typical prices across our color spectrum.\"\n",
        "\n",
        "The CEO wants to understand pricing patterns."
      ]
    },
    {
      "cell_type": "code",
      "execution_count": null,
      "metadata": {
        "id": "sfr1TgRMNZLA",
        "colab": {
          "base_uri": "https://localhost:8080/"
        },
        "outputId": "7627d2cb-5d1d-436f-fca5-82bcea0a672a"
      },
      "outputs": [
        {
          "output_type": "stream",
          "name": "stdout",
          "text": [
            "shape: (6, 2)\n",
            "┌───────┬──────────────┐\n",
            "│ Color ┆ avg_price    │\n",
            "│ ---   ┆ ---          │\n",
            "│ str   ┆ f64          │\n",
            "╞═══════╪══════════════╡\n",
            "│ D     ┆ 15255.783661 │\n",
            "│ F     ┆ 12712.241856 │\n",
            "│ G     ┆ 12520.050633 │\n",
            "│ E     ┆ 11539.190231 │\n",
            "│ H     ┆ 10487.347544 │\n",
            "│ I     ┆ 8989.636364  │\n",
            "└───────┴──────────────┘\n"
          ]
        }
      ],
      "source": [
        "# Your code here:\n",
        "\n",
        "avg_price_by_color = df.group_by(\"Color\").agg(pl.col(\"Price\").mean().alias(\"avg_price\")).sort(\"avg_price\", descending=True)\n",
        "print(avg_price_by_color)"
      ]
    },
    {
      "cell_type": "markdown",
      "metadata": {
        "id": "Ve2b5nAANZLA"
      },
      "source": [
        "**Reflection:** After analyzing by color, how has your view of the data changed? What does each row in your result represent now?"
      ]
    },
    {
      "cell_type": "markdown",
      "metadata": {
        "id": "45BFco7pNZLA"
      },
      "source": [
        "**Your answer:** New grain = Each row shows a summary of all diamonds sharing the same color grade, rather than a single diamond."
      ]
    },
    {
      "cell_type": "markdown",
      "metadata": {
        "id": "Qm_hivy1NZLA"
      },
      "source": [
        "## Section 3: Advanced Strategic Analysis (10 minutes)\n",
        "\n",
        "The CEO leans forward: \"These next questions will shape our strategy for next year.\""
      ]
    },
    {
      "cell_type": "markdown",
      "metadata": {
        "id": "cF_RdtcQNZLA"
      },
      "source": [
        "### Question 8: \"We're thinking of specializing in certain clarity grades. For our investor deck, I need a complete breakdown showing: how many diamonds we have in each clarity grade, their typical price, and the total carats we're holding for each grade.\""
      ]
    },
    {
      "cell_type": "code",
      "execution_count": null,
      "metadata": {
        "id": "TjK5VKzCNZLA",
        "colab": {
          "base_uri": "https://localhost:8080/"
        },
        "outputId": "4e251557-dadf-4c54-9182-4d785ddd228c"
      },
      "outputs": [
        {
          "output_type": "stream",
          "name": "stdout",
          "text": [
            "shape: (7, 4)\n",
            "┌─────────┬──────────────┬──────────────┬──────────────┐\n",
            "│ Clarity ┆ num_diamonds ┆ avg_price    ┆ total_carats │\n",
            "│ ---     ┆ ---          ┆ ---          ┆ ---          │\n",
            "│ str     ┆ u32          ┆ f64          ┆ f64          │\n",
            "╞═════════╪══════════════╪══════════════╪══════════════╡\n",
            "│ FL      ┆ 4            ┆ 63776.0      ┆ 7.87         │\n",
            "│ IF      ┆ 219          ┆ 22105.844749 ┆ 316.0        │\n",
            "│ VVS1    ┆ 285          ┆ 16845.680702 ┆ 389.43       │\n",
            "│ VVS2    ┆ 666          ┆ 14142.177177 ┆ 876.58       │\n",
            "│ VS1     ┆ 1192         ┆ 13694.113255 ┆ 1682.74      │\n",
            "│ VS2     ┆ 1575         ┆ 11809.053333 ┆ 2170.81      │\n",
            "│ SI1     ┆ 2059         ┆ 8018.864012  ┆ 2563.69      │\n",
            "└─────────┴──────────────┴──────────────┴──────────────┘\n"
          ]
        }
      ],
      "source": [
        "# Your code here:\n",
        "\n",
        "clarity_summary = (\n",
        "    df.group_by(\"Clarity\")\n",
        "      .agg([\n",
        "          pl.len().alias(\"num_diamonds\"),\n",
        "          pl.col(\"Price\").mean().alias(\"avg_price\"),\n",
        "          pl.col(\"Carat Weight\").sum().alias(\"total_carats\")\n",
        "      ])\n",
        "      .sort(\"avg_price\", descending=True)\n",
        ")\n",
        "\n",
        "print(clarity_summary)"
      ]
    },
    {
      "cell_type": "markdown",
      "metadata": {
        "id": "SBECXbUFNZLA"
      },
      "source": [
        "### Question 9: \"My luxury competitor claims they have the best prices for every cut-color combination. Show me our pricing structure across these combinations - I want to see where we're competitive.\""
      ]
    },
    {
      "cell_type": "code",
      "execution_count": null,
      "metadata": {
        "id": "DcyL94ZvNZLA",
        "colab": {
          "base_uri": "https://localhost:8080/"
        },
        "outputId": "0d59d59f-756d-4cf3-add4-ce727984a70c"
      },
      "outputs": [
        {
          "output_type": "stream",
          "name": "stdout",
          "text": [
            "shape: (30, 3)\n",
            "┌───────────┬───────┬──────────────┐\n",
            "│ Cut       ┆ Color ┆ avg_price    │\n",
            "│ ---       ┆ ---   ┆ ---          │\n",
            "│ str       ┆ str   ┆ f64          │\n",
            "╞═══════════╪═══════╪══════════════╡\n",
            "│ Fair      ┆ D     ┆ 6058.25      │\n",
            "│ Fair      ┆ E     ┆ 5370.625     │\n",
            "│ Fair      ┆ F     ┆ 6063.625     │\n",
            "│ Fair      ┆ G     ┆ 7345.52381   │\n",
            "│ Fair      ┆ H     ┆ 5908.5       │\n",
            "│ …         ┆ …     ┆ …            │\n",
            "│ Very Good ┆ E     ┆ 12101.910217 │\n",
            "│ Very Good ┆ F     ┆ 12413.905495 │\n",
            "│ Very Good ┆ G     ┆ 12354.013841 │\n",
            "│ Very Good ┆ H     ┆ 10056.106132 │\n",
            "│ Very Good ┆ I     ┆ 8930.031332  │\n",
            "└───────────┴───────┴──────────────┘\n"
          ]
        }
      ],
      "source": [
        "# Your code here:\n",
        "\n",
        "cut_color_prices = (\n",
        "    df.group_by([\"Cut\", \"Color\"])\n",
        "      .agg(pl.col(\"Price\").mean().alias(\"avg_price\"))\n",
        "      .sort([\"Cut\", \"Color\"])\n",
        ")\n",
        "\n",
        "print(cut_color_prices)"
      ]
    },
    {
      "cell_type": "markdown",
      "metadata": {
        "id": "BeWRlPy0NZLA"
      },
      "source": [
        "**Reflection:** How specific is your analysis now? What level of detail does each row represent?"
      ]
    },
    {
      "cell_type": "markdown",
      "metadata": {
        "id": "Al9TxjnlNZLA"
      },
      "source": [
        "**Your answer:** New grain = Each row now shows a particular combination of cut and color, rather than an individual diamond."
      ]
    },
    {
      "cell_type": "markdown",
      "metadata": {
        "id": "8dT9rZMLNZLA"
      },
      "source": [
        "### Question 10: URGENT - \"Our biggest client is interested in purchasing entire inventory segments. They asked: 'Which color-cut combinations represent your highest total inventory value?' Show me the top 5 most valuable inventory segments by total worth, and include how many diamonds are in each segment.\"\n",
        "\n",
        "This is critical for tomorrow's negotiation."
      ]
    },
    {
      "cell_type": "code",
      "execution_count": null,
      "metadata": {
        "id": "DcvRAPUTNZLA",
        "colab": {
          "base_uri": "https://localhost:8080/"
        },
        "outputId": "715959e6-29d9-4731-9a1c-a215a97a787d"
      },
      "outputs": [
        {
          "output_type": "stream",
          "name": "stdout",
          "text": [
            "shape: (5, 4)\n",
            "┌───────────┬───────┬──────────────┬─────────────┐\n",
            "│ Cut       ┆ Color ┆ num_diamonds ┆ total_value │\n",
            "│ ---       ┆ ---   ┆ ---          ┆ ---         │\n",
            "│ str       ┆ str   ┆ u32          ┆ i64         │\n",
            "╞═══════════╪═══════╪══════════════╪═════════════╡\n",
            "│ Ideal     ┆ G     ┆ 690          ┆ 9363514     │\n",
            "│ Very Good ┆ G     ┆ 578          ┆ 7140620     │\n",
            "│ Very Good ┆ F     ┆ 455          ┆ 5648327     │\n",
            "│ Ideal     ┆ F     ┆ 363          ┆ 5346782     │\n",
            "│ Ideal     ┆ H     ┆ 458          ┆ 5279687     │\n",
            "└───────────┴───────┴──────────────┴─────────────┘\n"
          ]
        }
      ],
      "source": [
        "# Your code here:\n",
        "\n",
        "top_segments = (\n",
        "    df.group_by([\"Cut\", \"Color\"])\n",
        "      .agg([\n",
        "          pl.len().alias(\"num_diamonds\"),\n",
        "          pl.col(\"Price\").sum().alias(\"total_value\")\n",
        "      ])\n",
        "      .sort(\"total_value\", descending=True)\n",
        "      .head(5)  # top 5 segments\n",
        ")\n",
        "\n",
        "print(top_segments)"
      ]
    },
    {
      "cell_type": "markdown",
      "metadata": {
        "id": "6FlWfYXvNZLA"
      },
      "source": [
        "## Debrief\n",
        "\n",
        "Congratulations! You've just completed your first day as the diamond company's data analyst.\n",
        "\n",
        "Remember:\n",
        "- CEOs speak in business language, not technical terms\n",
        "- Always understand what each row represents before analyzing\n",
        "- Business questions contain clues about which operations to use"
      ]
    }
  ],
  "metadata": {
    "kernelspec": {
      "display_name": "Python 3",
      "language": "python",
      "name": "python3"
    },
    "language_info": {
      "codemirror_mode": {
        "name": "ipython",
        "version": 3
      },
      "file_extension": ".py",
      "mimetype": "text/x-python",
      "name": "python",
      "nbconvert_exporter": "python",
      "pygments_lexer": "ipython3",
      "version": "3.12.0"
    },
    "colab": {
      "provenance": []
    }
  },
  "nbformat": 4,
  "nbformat_minor": 0
}